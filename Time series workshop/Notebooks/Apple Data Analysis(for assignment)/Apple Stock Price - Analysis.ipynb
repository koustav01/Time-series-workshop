{
 "cells": [
  {
   "cell_type": "markdown",
   "metadata": {},
   "source": [
    "## TIMESERIES ANALYSIS\n",
    "\n",
    "'The most difficult thing in life is to know yourself'\n",
    "\n",
    "This quote belongs to Thales of Miletus. Thales was a Greek/Phonecian philosopher, mathematician and astronomer, which is recognised as the first individual in Western civilisation known to have entertained and engaged in scientific thought (source: https://en.wikipedia.org/wiki/Thales)\n",
    "\n",
    "I wouldn't say that knowing your data is the most difficult thing in data science, but it is time-consuming.\n",
    "We take a deeper dive into this with predicting future stock prices of the Apple Company (AAPL), based on its stock prices of the past 5 years.. <br>\n",
    "### Let's start!!"
   ]
  },
  {
   "cell_type": "code",
   "execution_count": 13,
   "metadata": {},
   "outputs": [],
   "source": [
    "#import necessary libraries.\n",
    "import numpy as np  \n",
    "import matplotlib.pyplot as plt  \n",
    "import pandas as pd \n",
    "from fbprophet import Prophet\n",
    "from pandas import DataFrame\n",
    "from pandas import Series\n",
    "from pandas import concat\n",
    "from pandas import read_csv\n",
    "from pandas import datetime\n",
    "from sklearn.metrics import mean_squared_error  \n",
    "from sklearn.preprocessing import MinMaxScaler\n",
    "from keras.models import Sequential\n",
    "from keras.layers import Dense\n",
    "from keras.layers import LSTM\n",
    "from math import sqrt\n",
    "from matplotlib import pyplot\n",
    "from matplotlib.pylab import rcParams\n",
    "from keras.models import Sequential  \n",
    "from keras.layers import Dense  \n",
    "from keras.layers import LSTM  \n",
    "from keras.layers import Dropout  "
   ]
  },
  {
   "cell_type": "code",
   "execution_count": 3,
   "metadata": {},
   "outputs": [
    {
     "data": {
      "text/html": [
       "<div>\n",
       "<style scoped>\n",
       "    .dataframe tbody tr th:only-of-type {\n",
       "        vertical-align: middle;\n",
       "    }\n",
       "\n",
       "    .dataframe tbody tr th {\n",
       "        vertical-align: top;\n",
       "    }\n",
       "\n",
       "    .dataframe thead th {\n",
       "        text-align: right;\n",
       "    }\n",
       "</style>\n",
       "<table border=\"1\" class=\"dataframe\">\n",
       "  <thead>\n",
       "    <tr style=\"text-align: right;\">\n",
       "      <th></th>\n",
       "      <th>Date</th>\n",
       "      <th>Open</th>\n",
       "      <th>High</th>\n",
       "      <th>Low</th>\n",
       "      <th>Close</th>\n",
       "      <th>Adj Close</th>\n",
       "      <th>Volume</th>\n",
       "    </tr>\n",
       "  </thead>\n",
       "  <tbody>\n",
       "    <tr>\n",
       "      <th>0</th>\n",
       "      <td>2012-12-31</td>\n",
       "      <td>72.932854</td>\n",
       "      <td>76.485718</td>\n",
       "      <td>72.714287</td>\n",
       "      <td>76.024284</td>\n",
       "      <td>53.767834</td>\n",
       "      <td>164873100</td>\n",
       "    </tr>\n",
       "    <tr>\n",
       "      <th>1</th>\n",
       "      <td>2013-01-02</td>\n",
       "      <td>79.117142</td>\n",
       "      <td>79.285713</td>\n",
       "      <td>77.375717</td>\n",
       "      <td>78.432854</td>\n",
       "      <td>55.471294</td>\n",
       "      <td>140129500</td>\n",
       "    </tr>\n",
       "    <tr>\n",
       "      <th>2</th>\n",
       "      <td>2013-01-03</td>\n",
       "      <td>78.268570</td>\n",
       "      <td>78.524284</td>\n",
       "      <td>77.285713</td>\n",
       "      <td>77.442856</td>\n",
       "      <td>54.771122</td>\n",
       "      <td>88241300</td>\n",
       "    </tr>\n",
       "    <tr>\n",
       "      <th>3</th>\n",
       "      <td>2013-01-04</td>\n",
       "      <td>76.709999</td>\n",
       "      <td>76.947144</td>\n",
       "      <td>75.118568</td>\n",
       "      <td>75.285713</td>\n",
       "      <td>53.245483</td>\n",
       "      <td>148583400</td>\n",
       "    </tr>\n",
       "    <tr>\n",
       "      <th>4</th>\n",
       "      <td>2013-01-07</td>\n",
       "      <td>74.571426</td>\n",
       "      <td>75.614288</td>\n",
       "      <td>73.599998</td>\n",
       "      <td>74.842857</td>\n",
       "      <td>52.932274</td>\n",
       "      <td>121039100</td>\n",
       "    </tr>\n",
       "  </tbody>\n",
       "</table>\n",
       "</div>"
      ],
      "text/plain": [
       "         Date       Open       High        Low      Close  Adj Close  \\\n",
       "0  2012-12-31  72.932854  76.485718  72.714287  76.024284  53.767834   \n",
       "1  2013-01-02  79.117142  79.285713  77.375717  78.432854  55.471294   \n",
       "2  2013-01-03  78.268570  78.524284  77.285713  77.442856  54.771122   \n",
       "3  2013-01-04  76.709999  76.947144  75.118568  75.285713  53.245483   \n",
       "4  2013-01-07  74.571426  75.614288  73.599998  74.842857  52.932274   \n",
       "\n",
       "      Volume  \n",
       "0  164873100  \n",
       "1  140129500  \n",
       "2   88241300  \n",
       "3  148583400  \n",
       "4  121039100  "
      ]
     },
     "execution_count": 3,
     "metadata": {},
     "output_type": "execute_result"
    }
   ],
   "source": [
    "#Read trainging data\n",
    "apple_training_complete = pd.read_csv(r'AAPL (1).csv')  \n",
    "df = apple_training_complete.iloc[:, 0:2]\n",
    "apple_training_complete.head()"
   ]
  },
  {
   "cell_type": "markdown",
   "metadata": {},
   "source": [
    "### We are only interested in the opening price of the stock. Therefore, we will filter all the data from our training set and will retain only the values for the Open column. "
   ]
  },
  {
   "cell_type": "code",
   "execution_count": 17,
   "metadata": {},
   "outputs": [
    {
     "data": {
      "text/html": [
       "<div>\n",
       "<style scoped>\n",
       "    .dataframe tbody tr th:only-of-type {\n",
       "        vertical-align: middle;\n",
       "    }\n",
       "\n",
       "    .dataframe tbody tr th {\n",
       "        vertical-align: top;\n",
       "    }\n",
       "\n",
       "    .dataframe thead th {\n",
       "        text-align: right;\n",
       "    }\n",
       "</style>\n",
       "<table border=\"1\" class=\"dataframe\">\n",
       "  <thead>\n",
       "    <tr style=\"text-align: right;\">\n",
       "      <th></th>\n",
       "      <th>Open</th>\n",
       "    </tr>\n",
       "    <tr>\n",
       "      <th>Date</th>\n",
       "      <th></th>\n",
       "    </tr>\n",
       "  </thead>\n",
       "  <tbody>\n",
       "    <tr>\n",
       "      <th>2012-12-31</th>\n",
       "      <td>72.932854</td>\n",
       "    </tr>\n",
       "    <tr>\n",
       "      <th>2013-01-02</th>\n",
       "      <td>79.117142</td>\n",
       "    </tr>\n",
       "    <tr>\n",
       "      <th>2013-01-03</th>\n",
       "      <td>78.268570</td>\n",
       "    </tr>\n",
       "    <tr>\n",
       "      <th>2013-01-04</th>\n",
       "      <td>76.709999</td>\n",
       "    </tr>\n",
       "    <tr>\n",
       "      <th>2013-01-07</th>\n",
       "      <td>74.571426</td>\n",
       "    </tr>\n",
       "  </tbody>\n",
       "</table>\n",
       "</div>"
      ],
      "text/plain": [
       "                 Open\n",
       "Date                 \n",
       "2012-12-31  72.932854\n",
       "2013-01-02  79.117142\n",
       "2013-01-03  78.268570\n",
       "2013-01-04  76.709999\n",
       "2013-01-07  74.571426"
      ]
     },
     "execution_count": 17,
     "metadata": {},
     "output_type": "execute_result"
    }
   ],
   "source": [
    "ts =  apple_training_complete.iloc[:, 0:2]\n",
    "ts.set_index('Date',inplace = True)\n",
    "ts.head()\n"
   ]
  },
  {
   "cell_type": "code",
   "execution_count": 18,
   "metadata": {},
   "outputs": [
    {
     "data": {
      "text/plain": [
       "[<matplotlib.lines.Line2D at 0x11da78fff60>]"
      ]
     },
     "execution_count": 18,
     "metadata": {},
     "output_type": "execute_result"
    },
    {
     "data": {
      "image/png": "[encoded data removed]",
      "text/plain": [
       "<Figure size 1080x432 with 1 Axes>"
      ]
     },
     "metadata": {},
     "output_type": "display_data"
    }
   ],
   "source": [
    "rcParams['figure.figsize'] = 15,6\n",
    "plt.plot(ts)"
   ]
  },
  {
   "cell_type": "markdown",
   "metadata": {},
   "source": [
    "### You can see that the trend is highly non-linear and it is very difficult to capture the trend using this information. This is where the power of LSTM can be utilized. LSTM (Long Short-Term Memory network) is a type of recurrent neural network capable of remembering the past information and while predicting the future values, it takes this past information into account."
   ]
  },
  {
   "cell_type": "markdown",
   "metadata": {},
   "source": [
    "---"
   ]
  },
  {
   "cell_type": "code",
   "execution_count": 6,
   "metadata": {},
   "outputs": [],
   "source": [
    "#As we said earlier, we are only interested in the opening price of the stock. \n",
    "#Therefore, we will filter all the data from our training set and will retain only the values for the Open column. \n",
    "#Execute this:\n",
    "apple_training_processed = apple_training_complete.iloc[:, 1:2].values  "
   ]
  },
  {
   "cell_type": "markdown",
   "metadata": {},
   "source": [
    "### Data Normalization\n",
    "As a rule of thumb, whenever you use a neural network, you should normalize or scale your data. We will use MinMaxScaler class from the sklear.preprocessing library to scale our data between 0 and 1. "
   ]
  },
  {
   "cell_type": "code",
   "execution_count": 19,
   "metadata": {},
   "outputs": [],
   "source": [
    "#LSTM needs scaled data. Use Scikit-learn's inbuilt API to do the job.\n",
    "from sklearn.preprocessing import MinMaxScaler  \n",
    "scaler = MinMaxScaler(feature_range = (0, 1))\n",
    "apple_training_scaled = scaler.fit_transform(apple_training_processed)"
   ]
  },
  {
   "cell_type": "markdown",
   "metadata": {},
   "source": [
    "### We have to predict a value at time T, based on the data from days T-N where N can be any number of steps. In this article, we are going to predict the opening stock price of the data based on the opening stock prices for the past 60 days. "
   ]
  },
  {
   "cell_type": "markdown",
   "metadata": {},
   "source": [
    "Our feature set should contain the opening stock price values for the past 60 days while the label or dependent variable should be the stock price at the 61st day."
   ]
  },
  {
   "cell_type": "code",
   "execution_count": 20,
   "metadata": {},
   "outputs": [],
   "source": [
    "features_set = []  \n",
    "labels = []  \n",
    "for i in range(60, 1260):  \n",
    "    features_set.append(apple_training_scaled[i-60:i, 0])\n",
    "    labels.append(apple_training_scaled[i, 0])"
   ]
  },
  {
   "cell_type": "markdown",
   "metadata": {},
   "source": [
    "In the script above we create two lists: feature_set and labels. There are 1260 records in the training data. We execute a loop that starts from 61st record and stores all the previous 60 records to the feature_set list. The 61st record is stored in the labels list.\n",
    "\n",
    "We need to convert both the feature_set and the labels list to the numpy array before we can use it for training."
   ]
  },
  {
   "cell_type": "code",
   "execution_count": 21,
   "metadata": {},
   "outputs": [],
   "source": [
    "features_set, labels = np.array(features_set), np.array(labels)  "
   ]
  },
  {
   "cell_type": "markdown",
   "metadata": {},
   "source": [
    "In order to train LSTM on our data, we need to convert our data into the shape accepted by the LSTM. We need to convert our data into three-dimensional format. The first dimension is the number of records or rows in the dataset which is 1260 in our case. The second dimension is the number of time steps which is 60 while the last dimension is the number of indicators. Since we are only using one feature, i.e Open, the number of indicators will be one."
   ]
  },
  {
   "cell_type": "code",
   "execution_count": 22,
   "metadata": {},
   "outputs": [],
   "source": [
    "features_set = np.reshape(features_set, (features_set.shape[0], features_set.shape[1], 1))  "
   ]
  },
  {
   "cell_type": "markdown",
   "metadata": {},
   "source": [
    "We have preprocessed our data and have converted it into the desired format. now is the time to create our LSTM. The LSTM model that we are going to create will be a sequential model with multiple layers. We will add four LSTM layers to our model followed by a dense layer that predicts the future stock price."
   ]
  },
  {
   "cell_type": "code",
   "execution_count": 24,
   "metadata": {},
   "outputs": [],
   "source": [
    "#model builing-LSTM\n",
    "model = Sequential()  "
   ]
  },
  {
   "cell_type": "markdown",
   "metadata": {},
   "source": [
    "To add a layer to the sequential model, the add method is used. Inside the add method, we passed our LSTM layer. The first parameter to the LSTM layer is the number of neurons or nodes that we want in the layer. The second parameter is return_sequences, which is set to true since we will add more layers to the model. The first parameter to the input_shape is the number of time steps while the last parameter is the number of indicators."
   ]
  },
  {
   "cell_type": "code",
   "execution_count": 25,
   "metadata": {},
   "outputs": [],
   "source": [
    "#Add layers\n",
    "model.add(LSTM(units=50, return_sequences=True, input_shape=(features_set.shape[1], 1)))  "
   ]
  },
  {
   "cell_type": "markdown",
   "metadata": {},
   "source": [
    "Now add a dropout layer to our model. Dropout layer is added to avoid over-fitting, which is a phenomenon where a machine learning model performs better on the training data compared to the test data."
   ]
  },
  {
   "cell_type": "code",
   "execution_count": 26,
   "metadata": {},
   "outputs": [],
   "source": [
    "model.add(Dropout(0.2))  "
   ]
  },
  {
   "cell_type": "markdown",
   "metadata": {},
   "source": [
    "Let's add three more LSTM and dropout layers to our model."
   ]
  },
  {
   "cell_type": "code",
   "execution_count": 27,
   "metadata": {},
   "outputs": [],
   "source": [
    "model.add(LSTM(units=50, return_sequences=True))  \n",
    "model.add(Dropout(0.2))\n",
    "\n",
    "model.add(LSTM(units=50, return_sequences=True))  \n",
    "model.add(Dropout(0.2))\n",
    "\n",
    "model.add(LSTM(units=50))  \n",
    "model.add(Dropout(0.2)) "
   ]
  },
  {
   "cell_type": "markdown",
   "metadata": {},
   "source": [
    "### Creating Dense Layer\n",
    "To make our model more robust, we add a dense layer at the end of the model. The number of neurons in the dense layer will be set to 1 since we want to predict a single value in the output."
   ]
  },
  {
   "cell_type": "code",
   "execution_count": 28,
   "metadata": {},
   "outputs": [],
   "source": [
    "model.add(Dense(units = 1))  "
   ]
  },
  {
   "cell_type": "markdown",
   "metadata": {},
   "source": [
    "### Model Compilation\n",
    "Finally, we need to compile our LSTM before we can train it on the training data. "
   ]
  },
  {
   "cell_type": "code",
   "execution_count": 29,
   "metadata": {},
   "outputs": [],
   "source": [
    "model.compile(optimizer = 'adam', loss = 'mean_squared_error') "
   ]
  },
  {
   "cell_type": "markdown",
   "metadata": {},
   "source": [
    "We call the compile method on the Sequential model object which is \"model\" in our case. We use the mean squared error as loss function and to reduce the loss or to optimize the algorithm, we use the adam optimizer."
   ]
  },
  {
   "cell_type": "code",
   "execution_count": 30,
   "metadata": {},
   "outputs": [
    {
     "name": "stdout",
     "output_type": "stream",
     "text": [
      "Epoch 1/100\n",
      "1200/1200 [==============================] - 16s 14ms/step - loss: 0.0384\n",
      "Epoch 2/100\n",
      "1200/1200 [==============================] - 9s 7ms/step - loss: 0.0054\n",
      "Epoch 3/100\n",
      "1200/1200 [==============================] - 8s 7ms/step - loss: 0.0048\n",
      "Epoch 4/100\n",
      "1200/1200 [==============================] - 9s 7ms/step - loss: 0.0043\n",
      "Epoch 5/100\n",
      "1200/1200 [==============================] - 9s 7ms/step - loss: 0.0046\n",
      "Epoch 6/100\n",
      "1200/1200 [==============================] - 9s 8ms/step - loss: 0.0039\n",
      "Epoch 7/100\n",
      "1200/1200 [==============================] - 10s 8ms/step - loss: 0.0035\n",
      "Epoch 8/100\n",
      "1200/1200 [==============================] - 9s 8ms/step - loss: 0.0048\n",
      "Epoch 9/100\n",
      "1200/1200 [==============================] - 9s 8ms/step - loss: 0.0044\n",
      "Epoch 10/100\n",
      "1200/1200 [==============================] - 9s 7ms/step - loss: 0.0036\n",
      "Epoch 11/100\n",
      "1200/1200 [==============================] - 8s 7ms/step - loss: 0.0034\n",
      "Epoch 12/100\n",
      "1200/1200 [==============================] - 8s 7ms/step - loss: 0.0028\n",
      "Epoch 13/100\n",
      "1200/1200 [==============================] - 9s 8ms/step - loss: 0.0032\n",
      "Epoch 14/100\n",
      "1200/1200 [==============================] - 9s 8ms/step - loss: 0.0033\n",
      "Epoch 15/100\n",
      "1200/1200 [==============================] - 9s 8ms/step - loss: 0.0032\n",
      "Epoch 16/100\n",
      "1200/1200 [==============================] - 10s 8ms/step - loss: 0.0030\n",
      "Epoch 17/100\n",
      "1200/1200 [==============================] - 10s 9ms/step - loss: 0.0027\n",
      "Epoch 18/100\n",
      "1200/1200 [==============================] - 10s 8ms/step - loss: 0.0026\n",
      "Epoch 19/100\n",
      "1200/1200 [==============================] - 9s 7ms/step - loss: 0.0033\n",
      "Epoch 20/100\n",
      "1200/1200 [==============================] - 9s 7ms/step - loss: 0.0029\n",
      "Epoch 21/100\n",
      "1200/1200 [==============================] - 8s 7ms/step - loss: 0.0026\n",
      "Epoch 22/100\n",
      "1200/1200 [==============================] - 8s 6ms/step - loss: 0.0028\n",
      "Epoch 23/100\n",
      "1200/1200 [==============================] - 8s 6ms/step - loss: 0.0027\n",
      "Epoch 24/100\n",
      "1200/1200 [==============================] - 8s 7ms/step - loss: 0.0027\n",
      "Epoch 25/100\n",
      "1200/1200 [==============================] - 9s 8ms/step - loss: 0.0028\n",
      "Epoch 26/100\n",
      "1200/1200 [==============================] - 8s 7ms/step - loss: 0.0025\n",
      "Epoch 27/100\n",
      "1200/1200 [==============================] - 9s 7ms/step - loss: 0.0031\n",
      "Epoch 28/100\n",
      "1200/1200 [==============================] - 8s 7ms/step - loss: 0.0025\n",
      "Epoch 29/100\n",
      "1200/1200 [==============================] - 8s 7ms/step - loss: 0.0026\n",
      "Epoch 30/100\n",
      "1200/1200 [==============================] - 9s 7ms/step - loss: 0.0027\n",
      "Epoch 31/100\n",
      "1200/1200 [==============================] - 7s 6ms/step - loss: 0.0025\n",
      "Epoch 32/100\n",
      "1200/1200 [==============================] - 9s 7ms/step - loss: 0.0024\n",
      "Epoch 33/100\n",
      "1200/1200 [==============================] - 9s 7ms/step - loss: 0.0023\n",
      "Epoch 34/100\n",
      "1200/1200 [==============================] - 9s 7ms/step - loss: 0.0027\n",
      "Epoch 35/100\n",
      "1200/1200 [==============================] - 10s 8ms/step - loss: 0.0023\n",
      "Epoch 36/100\n",
      "1200/1200 [==============================] - 10s 8ms/step - loss: 0.0022\n",
      "Epoch 37/100\n",
      "1200/1200 [==============================] - 9s 7ms/step - loss: 0.0021\n",
      "Epoch 38/100\n",
      "1200/1200 [==============================] - 9s 7ms/step - loss: 0.0019\n",
      "Epoch 39/100\n",
      "1200/1200 [==============================] - 10s 9ms/step - loss: 0.0020\n",
      "Epoch 40/100\n",
      "1200/1200 [==============================] - 9s 8ms/step - loss: 0.0021\n",
      "Epoch 41/100\n",
      "1200/1200 [==============================] - 10s 8ms/step - loss: 0.0020\n",
      "Epoch 42/100\n",
      "1200/1200 [==============================] - 10s 8ms/step - loss: 0.0021\n",
      "Epoch 43/100\n",
      "1200/1200 [==============================] - 10s 8ms/step - loss: 0.0017\n",
      "Epoch 44/100\n",
      "1200/1200 [==============================] - 10s 8ms/step - loss: 0.0020\n",
      "Epoch 45/100\n",
      "1200/1200 [==============================] - 9s 7ms/step - loss: 0.0020\n",
      "Epoch 46/100\n",
      "1200/1200 [==============================] - 10s 8ms/step - loss: 0.0020\n",
      "Epoch 47/100\n",
      "1200/1200 [==============================] - 9s 8ms/step - loss: 0.0019\n",
      "Epoch 48/100\n",
      "1200/1200 [==============================] - 9s 8ms/step - loss: 0.0016\n",
      "Epoch 49/100\n",
      "1200/1200 [==============================] - 10s 8ms/step - loss: 0.0019\n",
      "Epoch 50/100\n",
      "1200/1200 [==============================] - 9s 8ms/step - loss: 0.0017\n",
      "Epoch 51/100\n",
      "1200/1200 [==============================] - 9s 8ms/step - loss: 0.0018\n",
      "Epoch 52/100\n",
      "1200/1200 [==============================] - 9s 7ms/step - loss: 0.0018\n",
      "Epoch 53/100\n",
      "1200/1200 [==============================] - 9s 8ms/step - loss: 0.0017\n",
      "Epoch 54/100\n",
      "1200/1200 [==============================] - 8s 7ms/step - loss: 0.0017\n",
      "Epoch 55/100\n",
      "1200/1200 [==============================] - 9s 7ms/step - loss: 0.0020\n",
      "Epoch 56/100\n",
      "1200/1200 [==============================] - 9s 8ms/step - loss: 0.0018\n",
      "Epoch 57/100\n",
      "1200/1200 [==============================] - 9s 7ms/step - loss: 0.0017\n",
      "Epoch 58/100\n",
      "1200/1200 [==============================] - 9s 8ms/step - loss: 0.0016\n",
      "Epoch 59/100\n",
      "1200/1200 [==============================] - 9s 8ms/step - loss: 0.0016\n",
      "Epoch 60/100\n",
      "1200/1200 [==============================] - 9s 7ms/step - loss: 0.0015\n",
      "Epoch 61/100\n",
      "1200/1200 [==============================] - 9s 8ms/step - loss: 0.0016\n",
      "Epoch 62/100\n",
      "1200/1200 [==============================] - 9s 8ms/step - loss: 0.0016\n",
      "Epoch 63/100\n",
      "1200/1200 [==============================] - 9s 8ms/step - loss: 0.0017\n",
      "Epoch 64/100\n",
      "1200/1200 [==============================] - 9s 7ms/step - loss: 0.0015\n",
      "Epoch 65/100\n",
      "1200/1200 [==============================] - 10s 8ms/step - loss: 0.0015\n",
      "Epoch 66/100\n",
      "1200/1200 [==============================] - 10s 8ms/step - loss: 0.0015\n",
      "Epoch 67/100\n",
      "1200/1200 [==============================] - 11s 9ms/step - loss: 0.0015\n",
      "Epoch 68/100\n",
      "1200/1200 [==============================] - 9s 8ms/step - loss: 0.0012\n",
      "Epoch 69/100\n",
      "1200/1200 [==============================] - 10s 8ms/step - loss: 0.0015\n",
      "Epoch 70/100\n",
      "1200/1200 [==============================] - 8s 7ms/step - loss: 0.0017\n",
      "Epoch 71/100\n",
      "1200/1200 [==============================] - 8s 7ms/step - loss: 0.0017\n",
      "Epoch 72/100\n",
      "1200/1200 [==============================] - 8s 7ms/step - loss: 0.0015\n",
      "Epoch 73/100\n",
      "1200/1200 [==============================] - 9s 7ms/step - loss: 0.0015\n",
      "Epoch 74/100\n",
      "1200/1200 [==============================] - 9s 7ms/step - loss: 0.0017\n",
      "Epoch 75/100\n",
      "1200/1200 [==============================] - 9s 7ms/step - loss: 0.0014\n",
      "Epoch 76/100\n",
      "1200/1200 [==============================] - 9s 8ms/step - loss: 0.0014\n",
      "Epoch 77/100\n",
      "1200/1200 [==============================] - 11s 9ms/step - loss: 0.0015\n",
      "Epoch 78/100\n",
      "1200/1200 [==============================] - 9s 8ms/step - loss: 0.0015\n",
      "Epoch 79/100\n",
      "1200/1200 [==============================] - 9s 8ms/step - loss: 0.0016\n",
      "Epoch 80/100\n",
      "1200/1200 [==============================] - 10s 8ms/step - loss: 0.0014\n",
      "Epoch 81/100\n",
      "1200/1200 [==============================] - 11s 9ms/step - loss: 0.0013\n",
      "Epoch 82/100\n",
      "1200/1200 [==============================] - 9s 8ms/step - loss: 0.0013\n",
      "Epoch 83/100\n",
      "1200/1200 [==============================] - 10s 8ms/step - loss: 0.0012\n",
      "Epoch 84/100\n",
      "1200/1200 [==============================] - 10s 8ms/step - loss: 0.0013\n",
      "Epoch 85/100\n",
      "1200/1200 [==============================] - 9s 7ms/step - loss: 0.0013\n",
      "Epoch 86/100\n",
      "1200/1200 [==============================] - 10s 8ms/step - loss: 0.0014\n",
      "Epoch 87/100\n",
      "1200/1200 [==============================] - 9s 8ms/step - loss: 0.0012\n",
      "Epoch 88/100\n",
      "1200/1200 [==============================] - 9s 7ms/step - loss: 0.0014\n",
      "Epoch 89/100\n",
      "1200/1200 [==============================] - 8s 7ms/step - loss: 0.0013\n",
      "Epoch 90/100\n",
      "1200/1200 [==============================] - 8s 7ms/step - loss: 0.0012\n",
      "Epoch 91/100\n",
      "1200/1200 [==============================] - 7s 6ms/step - loss: 0.0013\n",
      "Epoch 92/100\n",
      "1200/1200 [==============================] - 8s 7ms/step - loss: 0.0013\n",
      "Epoch 93/100\n",
      "1200/1200 [==============================] - 8s 7ms/step - loss: 0.0013\n",
      "Epoch 94/100\n",
      "1200/1200 [==============================] - 8s 6ms/step - loss: 0.0011\n",
      "Epoch 95/100\n",
      "1200/1200 [==============================] - 8s 7ms/step - loss: 0.0012\n",
      "Epoch 96/100\n",
      "1200/1200 [==============================] - 8s 7ms/step - loss: 0.0011\n",
      "Epoch 97/100\n",
      "1200/1200 [==============================] - 8s 7ms/step - loss: 0.0011\n",
      "Epoch 98/100\n",
      "1200/1200 [==============================] - 7s 6ms/step - loss: 0.0012\n",
      "Epoch 99/100\n",
      "1200/1200 [==============================] - 8s 7ms/step - loss: 0.0012\n",
      "Epoch 100/100\n",
      "1200/1200 [==============================] - 8s 7ms/step - loss: 0.0013\n"
     ]
    },
    {
     "data": {
      "text/plain": [
       "<keras.callbacks.History at 0x145c5e0dcc0>"
      ]
     },
     "execution_count": 30,
     "metadata": {},
     "output_type": "execute_result"
    }
   ],
   "source": [
    "model.fit(features_set, labels, epochs = 100, batch_size = 32)  "
   ]
  },
  {
   "cell_type": "markdown",
   "metadata": {},
   "source": [
    "### Testing our LSTM\n",
    "We have successfully trained our LSTM, now is the time to test the performance of our algorithm on the test set by predicting the opening stock prices for the month of January 2018. However, as we did with the training data, we need to convert our test data in the right format."
   ]
  },
  {
   "cell_type": "code",
   "execution_count": 32,
   "metadata": {},
   "outputs": [],
   "source": [
    "#Read testing data\n",
    "apple_testing_complete = pd.read_csv(r'AAPL (2).csv')  \n",
    "apple_testing_processed = apple_testing_complete.iloc[:, 1:2].values "
   ]
  },
  {
   "cell_type": "markdown",
   "metadata": {},
   "source": [
    "### Converting Test Data to Right Format\n",
    "For each day of January 2018, we want our feature set to contain the opening stock prices for the previous 60 days. For the 1st of January, we need the stock prices for the previous 60 days. To do so, we need to concatenate our training data and test data before preprocessing."
   ]
  },
  {
   "cell_type": "code",
   "execution_count": 33,
   "metadata": {},
   "outputs": [],
   "source": [
    "#Merge the training and testing data.\n",
    "apple_total = pd.concat((apple_training_complete['Open'], apple_testing_complete['Open']), axis=0)  "
   ]
  },
  {
   "cell_type": "markdown",
   "metadata": {},
   "source": [
    "Now let's prepare our test inputs. The input for each day should contain the opening stock prices for the previous 60 days. That means we need opening stock prices for the 20 test days for the month of January 2018 and the 60 stock prices from the last 60 days for the training set. Execute the following script to fetch those 80 values."
   ]
  },
  {
   "cell_type": "code",
   "execution_count": 34,
   "metadata": {},
   "outputs": [],
   "source": [
    "test_inputs = apple_total[len(apple_total) - len(apple_testing_complete) - 60:].values "
   ]
  },
  {
   "cell_type": "code",
   "execution_count": 35,
   "metadata": {},
   "outputs": [],
   "source": [
    "test_inputs = test_inputs.reshape(-1,1)  \n",
    "test_inputs = scaler.transform(test_inputs)"
   ]
  },
  {
   "cell_type": "code",
   "execution_count": 36,
   "metadata": {},
   "outputs": [],
   "source": [
    "test_features = []  \n",
    "for i in range(60, 80):  \n",
    "    test_features.append(test_inputs[i-60:i, 0])"
   ]
  },
  {
   "cell_type": "code",
   "execution_count": 37,
   "metadata": {},
   "outputs": [],
   "source": [
    "test_features = np.array(test_features)  \n",
    "test_features = np.reshape(test_features, (test_features.shape[0], test_features.shape[1], 1)) "
   ]
  },
  {
   "cell_type": "markdown",
   "metadata": {},
   "source": [
    "### Making Predictions\n",
    "Now is the time to see the magic. We preprocessed our test data and now we can use it to make predictions. To do so, we simply need to call the predict method on the model that we trained. "
   ]
  },
  {
   "cell_type": "code",
   "execution_count": 38,
   "metadata": {},
   "outputs": [],
   "source": [
    "#Make predictions using the model.\n",
    "predictions = model.predict(test_features)  "
   ]
  },
  {
   "cell_type": "markdown",
   "metadata": {},
   "source": [
    " Since we scaled our data, the predictions made by the LSTM are also scaled. We need to reverse the scaled prediction back to their actual values. To do so, we can use the ìnverse_transform method of the scaler object we created during training. "
   ]
  },
  {
   "cell_type": "code",
   "execution_count": 39,
   "metadata": {},
   "outputs": [],
   "source": [
    "#Re-convert the data, that we had converted by scaling for analysis\n",
    "predictions = scaler.inverse_transform(predictions) "
   ]
  },
  {
   "cell_type": "code",
   "execution_count": 40,
   "metadata": {},
   "outputs": [
    {
     "data": {
      "image/png": "[encoded data removed]",
      "text/plain": [
       "<Figure size 720x432 with 1 Axes>"
      ]
     },
     "metadata": {},
     "output_type": "display_data"
    }
   ],
   "source": [
    "#Plot the results\n",
    "plt.figure(figsize=(10,6))  \n",
    "plt.plot(apple_testing_processed, color='blue', label='Actual Apple Stock Price')  \n",
    "plt.plot(predictions , color='red', label='Predicted Apple Stock Price')  \n",
    "plt.title('Apple Stock Price Prediction')  \n",
    "plt.xlabel('Date')  \n",
    "plt.ylabel('Apple Stock Price')  \n",
    "plt.legend()  \n",
    "plt.show()"
   ]
  },
  {
   "cell_type": "markdown",
   "metadata": {},
   "source": [
    "In the output, the blue line represents the actual stock prices for the month of January 2018, while the red line represents the predicted stock prices. You can clearly see that our algorithm has been able to capture the overall trend. The predicted prices also see a bullish trend at the beginning followed by a bearish or downwards trend at the end. <br>\n",
    "A long short-term memory network (LSTM) is one of the most commonly used neural networks for time series analysis. The ability of LSTM to remember previous information makes it ideal for such tasks."
   ]
  },
  {
   "cell_type": "markdown",
   "metadata": {},
   "source": [
    "---"
   ]
  },
  {
   "cell_type": "markdown",
   "metadata": {},
   "source": [
    "# PROPHET"
   ]
  },
  {
   "cell_type": "markdown",
   "metadata": {},
   "source": [
    "### BUILDING THE PROPHET MODEL \n",
    "Prophet is a procedure for forecasting time series data based on an additive model where non-linear trends are fit with yearly, weekly, and daily seasonality, plus holiday effects. It works best with time series that have strong seasonal effects and several seasons of historical data. Prophet is robust to missing data and shifts in the trend, and typically handles outliers well."
   ]
  },
  {
   "cell_type": "markdown",
   "metadata": {},
   "source": [
    "We use a decomposable time series model with three main model components: trend, seasonality, and holidays. They are combined in the following equation:\n",
    "\n",
    "#####  y(t)=g(t)+s(t)+h(t)+εt\n",
    "\n",
    " "
   ]
  },
  {
   "cell_type": "code",
   "execution_count": 5,
   "metadata": {},
   "outputs": [
    {
     "data": {
      "text/html": [
       "<div>\n",
       "<style scoped>\n",
       "    .dataframe tbody tr th:only-of-type {\n",
       "        vertical-align: middle;\n",
       "    }\n",
       "\n",
       "    .dataframe tbody tr th {\n",
       "        vertical-align: top;\n",
       "    }\n",
       "\n",
       "    .dataframe thead th {\n",
       "        text-align: right;\n",
       "    }\n",
       "</style>\n",
       "<table border=\"1\" class=\"dataframe\">\n",
       "  <thead>\n",
       "    <tr style=\"text-align: right;\">\n",
       "      <th></th>\n",
       "      <th>Date</th>\n",
       "      <th>Open</th>\n",
       "    </tr>\n",
       "  </thead>\n",
       "  <tbody>\n",
       "    <tr>\n",
       "      <th>0</th>\n",
       "      <td>2012-12-31</td>\n",
       "      <td>72.932854</td>\n",
       "    </tr>\n",
       "    <tr>\n",
       "      <th>1</th>\n",
       "      <td>2013-01-02</td>\n",
       "      <td>79.117142</td>\n",
       "    </tr>\n",
       "    <tr>\n",
       "      <th>2</th>\n",
       "      <td>2013-01-03</td>\n",
       "      <td>78.268570</td>\n",
       "    </tr>\n",
       "    <tr>\n",
       "      <th>3</th>\n",
       "      <td>2013-01-04</td>\n",
       "      <td>76.709999</td>\n",
       "    </tr>\n",
       "    <tr>\n",
       "      <th>4</th>\n",
       "      <td>2013-01-07</td>\n",
       "      <td>74.571426</td>\n",
       "    </tr>\n",
       "  </tbody>\n",
       "</table>\n",
       "</div>"
      ],
      "text/plain": [
       "         Date       Open\n",
       "0  2012-12-31  72.932854\n",
       "1  2013-01-02  79.117142\n",
       "2  2013-01-03  78.268570\n",
       "3  2013-01-04  76.709999\n",
       "4  2013-01-07  74.571426"
      ]
     },
     "execution_count": 5,
     "metadata": {},
     "output_type": "execute_result"
    }
   ],
   "source": [
    "#Viewing data.\n",
    "df.head()"
   ]
  },
  {
   "cell_type": "markdown",
   "metadata": {},
   "source": [
    "### Note: In prophet model the dataframe columns must be named compulsorily as ds(date column) and y(output column)"
   ]
  },
  {
   "cell_type": "code",
   "execution_count": 6,
   "metadata": {},
   "outputs": [],
   "source": [
    "#Renaming the columns.\n",
    "df.columns = ['ds','y']\n",
    "df['ds']=pd.to_datetime(df['ds'])\n"
   ]
  },
  {
   "cell_type": "markdown",
   "metadata": {},
   "source": [
    "### Seasonalities that depend on other factors(Try yourself)\n",
    "In some instances the seasonality may depend on other factors, such as a weekly seasonal pattern that is different during the summer than it is during the rest of the year, or a daily seasonal pattern that is different on weekends vs. on weekdays. These types of seasonalities can be modeled using conditional seasonalities."
   ]
  },
  {
   "cell_type": "markdown",
   "metadata": {},
   "source": [
    "The default weekly seasonality assumes that the pattern of weekly seasonality is the same throughout the year, but we’d expect the pattern of weekly seasonality to be different during the on-season (when there are HOLIDAYS every Sunday) and the off-season. We can use conditional seasonalities to construct separate on-season and off-season weekly seasonalities."
   ]
  },
  {
   "cell_type": "markdown",
   "metadata": {},
   "source": [
    "---"
   ]
  },
  {
   "cell_type": "markdown",
   "metadata": {},
   "source": [
    "### Additional regressors\n",
    "Additional regressors can be added to the linear part of the model using the add_regressor method or function. A column with the regressor value will need to be present in both the fitting and prediction dataframes. For example, we can add an additional effect on Sundays during the NFL season. "
   ]
  },
  {
   "cell_type": "code",
   "execution_count": 7,
   "metadata": {},
   "outputs": [],
   "source": [
    "#First we add a boolean column to the dataframe that indicates whether each date is during the on-season or the off-s\n",
    "def nfl_sunday(ds):\n",
    "    date = pd.to_datetime(ds)\n",
    "    if date.weekday() == 6 and (date.month > 8 or date.month < 2):\n",
    "        return 1\n",
    "    else:\n",
    "        return 0\n",
    "df['nfl_sunday'] = df['ds'].apply(nfl_sunday)"
   ]
  },
  {
   "cell_type": "code",
   "execution_count": null,
   "metadata": {},
   "outputs": [],
   "source": [
    "#Diving the dataset into train and test:\n",
    "train_size = int(len(df) * 0.75)\n",
    "test_size = len(df) - train_size\n",
    "train, test = df.iloc[0:train_size,:] , df.iloc[train_size:len(df),:]"
   ]
  },
  {
   "cell_type": "markdown",
   "metadata": {},
   "source": [
    "### We fit the model by instantiating a new Prophet object. Any settings to the forecasting procedure are passed into the constructor."
   ]
  },
  {
   "cell_type": "code",
   "execution_count": null,
   "metadata": {},
   "outputs": [],
   "source": [
    "#Modelling Prophet\n",
    "model = Prophet(changepoint_range=0.9,daily_seasonality=True,yearly_seasonality=True, weekly_seasonality=False )"
   ]
  },
  {
   "cell_type": "markdown",
   "metadata": {},
   "source": [
    "### Prophet will by default fit weekly and yearly seasonalities, if the time series is more than two cycles long. It will also fit daily seasonality for a sub-daily time series. You can add other seasonalities (monthly, quarterly, hourly) using the add_seasonality method (Python)"
   ]
  },
  {
   "cell_type": "markdown",
   "metadata": {},
   "source": [
    "### The inputs to this function are a name, the period of the seasonality in days, and the Fourier order for the seasonality. For reference, by default Prophet uses a Fourier order of 3 for weekly seasonality and 10 for yearly seasonality."
   ]
  },
  {
   "cell_type": "code",
   "execution_count": null,
   "metadata": {},
   "outputs": [],
   "source": [
    "model.add_seasonality(name='monthly', period=30.5, fourier_order=5, prior_scale=70)"
   ]
  },
  {
   "cell_type": "markdown",
   "metadata": {},
   "source": [
    "### Built-in Country Holidays\n",
    "You can use a built-in collection of country-specific holidays using the add_country_holidays method (Python) or function (R). The name of the country is specified, and then major holidays for that country will be included in addition to any holidays that are specified via the holidays argument described above:"
   ]
  },
  {
   "cell_type": "code",
   "execution_count": null,
   "metadata": {},
   "outputs": [],
   "source": [
    "model.add_country_holidays(country_name='US')"
   ]
  },
  {
   "cell_type": "code",
   "execution_count": null,
   "metadata": {},
   "outputs": [],
   "source": [
    "model.add_regressor('nfl_sunday')"
   ]
  },
  {
   "cell_type": "markdown",
   "metadata": {},
   "source": [
    "### Then you call its fit method and pass in the historical dataframe. Fitting should take 1-5 seconds."
   ]
  },
  {
   "cell_type": "code",
   "execution_count": null,
   "metadata": {},
   "outputs": [],
   "source": [
    "model.fit(train)"
   ]
  },
  {
   "cell_type": "markdown",
   "metadata": {},
   "source": [
    "### You can get a suitable dataframe that extends into the future a specified number of days using the helper method Prophet.make_future_dataframe. By default it will also include the dates from the history, so we will see the model fit as well."
   ]
  },
  {
   "cell_type": "code",
   "execution_count": null,
   "metadata": {},
   "outputs": [],
   "source": [
    "futureVals = model.make_future_dataframe(periods =test_size+130)"
   ]
  },
  {
   "cell_type": "code",
   "execution_count": null,
   "metadata": {},
   "outputs": [],
   "source": [
    "#Adding the above regressor.\n",
    "futureVals['nfl_sunday'] = futureVals['ds'].apply(nfl_sunday)"
   ]
  },
  {
   "cell_type": "markdown",
   "metadata": {},
   "source": [
    "### The predict method will assign each row in future a predicted value which it names yhat. If you pass in historical dates, it will provide an in-sample fit. The predictedVals object here is a new dataframe that includes a column yhat with the forecast, as well as columns for components and uncertainty intervals."
   ]
  },
  {
   "cell_type": "code",
   "execution_count": null,
   "metadata": {},
   "outputs": [],
   "source": [
    "predictedVals = model.predict(futureVals)"
   ]
  },
  {
   "cell_type": "markdown",
   "metadata": {},
   "source": [
    "## Post processing"
   ]
  },
  {
   "cell_type": "code",
   "execution_count": 26,
   "metadata": {},
   "outputs": [
    {
     "name": "stderr",
     "output_type": "stream",
     "text": [
      "C:\\Users\\Ganesh\\Anaconda4\\lib\\site-packages\\pystan\\misc.py:399: FutureWarning: Conversion of the second argument of issubdtype from `float` to `np.floating` is deprecated. In future, it will be treated as `np.float64 == np.dtype(float).type`.\n",
      "  elif np.issubdtype(np.asarray(v).dtype, float):\n"
     ]
    },
    {
     "name": "stdout",
     "output_type": "stream",
     "text": [
      "321.40318170309985\n"
     ]
    },
    {
     "data": {
      "image/png": "[encoded data removed]",
      "text/plain": [
       "<Figure size 720x432 with 1 Axes>"
      ]
     },
     "metadata": {},
     "output_type": "display_data"
    }
   ],
   "source": [
    "#Finding RMSE and Plotting for actual vs predicted data. \n",
    "print(mean_squared_error(test['y'],predictedVals.yhat.iloc[-test_size:]))\n",
    "plt.figure(figsize=(10,6))  \n",
    "plt.plot(df.ds,df.y,label=\"actual data\")\n",
    "plt.plot(predictedVals.iloc[0:train_size,:].ds,predictedVals.iloc[0:train_size,:].yhat,label=\"prediction on train data\")\n",
    "plt.plot(predictedVals.iloc[train_size:,:].ds,predictedVals.iloc[train_size:,:].yhat,label=\"prediction on test data\")\n",
    "plt.legend()\n",
    "plt.show()"
   ]
  },
  {
   "cell_type": "markdown",
   "metadata": {},
   "source": [
    "### We see that Prophet model fits almost well with some parameter tuning, with some more tweaks in parameeter might lead to even better fit."
   ]
  }
 ],
 "metadata": {
  "kernelspec": {
   "display_name": "Python 3",
   "language": "python",
   "name": "python3"
  },
  "language_info": {
   "codemirror_mode": {
    "name": "ipython",
    "version": 3
   },
   "file_extension": ".py",
   "mimetype": "text/x-python",
   "name": "python",
   "nbconvert_exporter": "python",
   "pygments_lexer": "ipython3",
   "version": "3.6.5"
  }
 },
 "nbformat": 4,
 "nbformat_minor": 2
}
